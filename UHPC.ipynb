{
 "cells": [
  {
   "cell_type": "code",
   "execution_count": null,
   "id": "5b0e90cb-ee19-448b-9e1b-738b23c1df8f",
   "metadata": {},
   "outputs": [],
   "source": [
    "import numpy as np\n",
    "import pandas as pd\n",
    "import xgboost as xgb\n",
    "xgb_reg = xgb.XGBRegressor()\n",
    "xgb_reg.load_model('./xgb.ubj')"
   ]
  },
  {
   "cell_type": "code",
   "execution_count": null,
   "id": "bf60198f-9e89-4471-a66a-7f413f2ce34e",
   "metadata": {},
   "outputs": [],
   "source": [
    "def gen_formula(n):\n",
    "\n",
    "    f0 = np.round(np.random.uniform(300, 1000, n), 1).reshape(n,1)\n",
    "    f1 = np.round(np.random.uniform(0, 1000, n), 1).reshape(n,1)\n",
    "    f5 = np.round(np.random.uniform(0, 1000, n), 1).reshape(n,1)\n",
    "    f6 = np.round(np.random.uniform(0, 1000, n), 1).reshape(n,1)\n",
    "    f7 = np.round(np.random.uniform(0, 1000, n), 1).reshape(n,1)\n",
    "\n",
    "    f2 = np.tile([[275]],(n,1))\n",
    "    f3 = np.tile([[125]],(n,1))\n",
    "    f4 = 2*f5\n",
    "    f8 = np.tile([[23]],(n,1))\n",
    "    f9 = np.tile([[156]],(n,1))\n",
    "    \n",
    "    initial_formula = pd.DataFrame(np.concatenate([f0,f1,f2,f3,f4,f5,f6,f7,f8,f9],axis=1),columns=['f0','f1','f2','f3','f4','f5','f6','f7','f8','f9'])\n",
    "    \n",
    "    return initial_formula\n",
    "    \n",
    "\n",
    "def select_formula(initial_formula):\n",
    "    \n",
    "    condition1 = ((initial_formula['f1']/600) / (initial_formula['f1']/600 + initial_formula['f0']/3150)).round(1)  # [0,0.6]\n",
    "    condition2 = ((initial_formula['f6']/650) / (initial_formula['f4']/2650 + initial_formula['f5']/2710 + initial_formula['f6']/650)).round(1)  # [0,0.6]\n",
    "    condition3 = (initial_formula['f7'] / (initial_formula[['f0','f1','f2','f3']].sum(axis=1))).round(2)  # [0.17,0.19]\n",
    "    condition4 = initial_formula.sum(axis=1).round(0)  # [1800,1950]\n",
    "    condition5 = ((initial_formula[['f0','f1','f2','f3']].sum(axis=1)) / (initial_formula[['f4','f5','f6']].sum(axis=1))).round(1)  # [1.1,1.4]\n",
    "    condition6 = (initial_formula['f0']/3150 + initial_formula['f1']/600 + initial_formula['f2']/2420 + initial_formula['f3']/2200 + initial_formula['f4']/2650 + initial_formula['f5']/2710 \\\n",
    "    + initial_formula['f6']/650 + initial_formula['f7']/1000 + initial_formula['f9']/7800).round(0)  # [0.9,1]\n",
    "    \n",
    "    index = np.where((condition1>0) & (condition1<=0.6) & (condition2>0) & (condition2<=0.6) & (condition3>=0.17) & (condition3<=0.19) & (condition4>=1800) & (condition4<=1950) & (condition5>=1.1) & (condition5<=1.4) & (condition6>=0.9) & (condition6<=1))\n",
    "    selective_formula = initial_formula.iloc[index]\n",
    "    \n",
    "    return selective_formula\n",
    "\n",
    "def main(n):\n",
    "\n",
    "    # 取消科学计数法，并设置小数点后精度\n",
    "    np.set_printoptions(suppress=True, precision=8)\n",
    "    \n",
    "    initial_formula = gen_formula(n)\n",
    "    selective_formula = select_formula(initial_formula).values\n",
    "    \n",
    "    mean_ = np.expand_dims(np.mean(selective_formula,axis=1),axis=1)\n",
    "    std_ = np.expand_dims(np.std(selective_formula,axis=1),axis=1)\n",
    "    input_formula = (selective_formula - mean_)/std_\n",
    "    \n",
    "    pred_strength = xgb_reg.predict(input_formula)\n",
    "    pred_strength = (pred_strength * std_[:,0] + mean_[:,0]).round(1)\n",
    "    index = np.where((pred_strength >= 120) & (pred_strength <= 160))  # 强度[120,160]\n",
    "    \n",
    "    final_formula = selective_formula[index]\n",
    "    final_strength = pred_strength[index]\n",
    "\n",
    "    return final_formula, np.expand_dims(final_strength,axis=1)"
   ]
  },
  {
   "cell_type": "code",
   "execution_count": null,
   "id": "17f39fc8-6068-486d-9f81-690a83e9acfe",
   "metadata": {},
   "outputs": [],
   "source": [
    "columns = ['C', 'LWP', 'SF', 'SCMs', 'QS', 'QP', 'LWA', 'W', 'SP', 'F', 'CS', 'TD','SEF']\n",
    "df = pd.DataFrame(columns=columns)\n",
    "for i in range(50):\n",
    "    \n",
    "    final_formula, final_strength = main(n=1000000)\n",
    "    final_dense = np.expand_dims(np.sum(final_formula,axis=1),axis=1)\n",
    "    SEF = (final_strength/final_dense*1000).round(0)\n",
    "    results = np.concatenate([final_formula,final_strength,final_dense,SEF],axis=1)\n",
    "    df1 = pd.DataFrame(results,columns=columns)\n",
    "    df = pd.concat([df,df1],axis=0, ignore_index=True)\n",
    "df"
   ]
  },
  {
   "cell_type": "code",
   "execution_count": null,
   "id": "65b3f348-ba73-4bd2-ab0a-0dd0d1f28665",
   "metadata": {},
   "outputs": [],
   "source": [
    "df.to_excel('./predicted_mix.xlsx')"
   ]
  }
 ],
 "metadata": {
  "kernelspec": {
   "display_name": "CGAN",
   "language": "python",
   "name": "cgan"
  },
  "language_info": {
   "codemirror_mode": {
    "name": "ipython",
    "version": 3
   },
   "file_extension": ".py",
   "mimetype": "text/x-python",
   "name": "python",
   "nbconvert_exporter": "python",
   "pygments_lexer": "ipython3",
   "version": "3.9.16"
  }
 },
 "nbformat": 4,
 "nbformat_minor": 5
}
